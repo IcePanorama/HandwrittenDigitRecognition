{
 "cells": [
  {
   "cell_type": "code",
   "execution_count": 3,
   "id": "91b185f9-1f81-43e8-a201-41248219587a",
   "metadata": {},
   "outputs": [],
   "source": [
    "from torchvision import datasets\n",
    "from torchvision.transforms import ToTensor"
   ]
  },
  {
   "cell_type": "code",
   "execution_count": 4,
   "id": "26ac7984-0e24-4e5a-a8a0-09570955310f",
   "metadata": {},
   "outputs": [
    {
     "name": "stdout",
     "output_type": "stream",
     "text": [
      "Downloading http://yann.lecun.com/exdb/mnist/train-images-idx3-ubyte.gz\n",
      "Downloading http://yann.lecun.com/exdb/mnist/train-images-idx3-ubyte.gz to data/MNIST/raw/train-images-idx3-ubyte.gz\n"
     ]
    },
    {
     "name": "stderr",
     "output_type": "stream",
     "text": [
      "100.0%\n"
     ]
    },
    {
     "name": "stdout",
     "output_type": "stream",
     "text": [
      "Extracting data/MNIST/raw/train-images-idx3-ubyte.gz to data/MNIST/raw\n",
      "\n",
      "Downloading http://yann.lecun.com/exdb/mnist/train-labels-idx1-ubyte.gz\n",
      "Downloading http://yann.lecun.com/exdb/mnist/train-labels-idx1-ubyte.gz to data/MNIST/raw/train-labels-idx1-ubyte.gz\n"
     ]
    },
    {
     "name": "stderr",
     "output_type": "stream",
     "text": [
      "100.0%\n"
     ]
    },
    {
     "name": "stdout",
     "output_type": "stream",
     "text": [
      "Extracting data/MNIST/raw/train-labels-idx1-ubyte.gz to data/MNIST/raw\n",
      "\n",
      "Downloading http://yann.lecun.com/exdb/mnist/t10k-images-idx3-ubyte.gz\n",
      "Downloading http://yann.lecun.com/exdb/mnist/t10k-images-idx3-ubyte.gz to data/MNIST/raw/t10k-images-idx3-ubyte.gz\n"
     ]
    },
    {
     "name": "stderr",
     "output_type": "stream",
     "text": [
      "100.0%\n"
     ]
    },
    {
     "name": "stdout",
     "output_type": "stream",
     "text": [
      "Extracting data/MNIST/raw/t10k-images-idx3-ubyte.gz to data/MNIST/raw\n",
      "\n",
      "Downloading http://yann.lecun.com/exdb/mnist/t10k-labels-idx1-ubyte.gz\n",
      "Downloading http://yann.lecun.com/exdb/mnist/t10k-labels-idx1-ubyte.gz to data/MNIST/raw/t10k-labels-idx1-ubyte.gz\n"
     ]
    },
    {
     "name": "stderr",
     "output_type": "stream",
     "text": [
      "100.0%"
     ]
    },
    {
     "name": "stdout",
     "output_type": "stream",
     "text": [
      "Extracting data/MNIST/raw/t10k-labels-idx1-ubyte.gz to data/MNIST/raw\n",
      "\n"
     ]
    },
    {
     "name": "stderr",
     "output_type": "stream",
     "text": [
      "\n"
     ]
    }
   ],
   "source": [
    "train_data = datasets.MNIST(\n",
    "    root = 'data',\n",
    "    train = True,\n",
    "    transform = ToTensor(),\n",
    "    download = True\n",
    ")\n",
    "\n",
    "test_data = datasets.MNIST(\n",
    "    root = 'data',\n",
    "    train = False,\n",
    "    transform = ToTensor(),\n",
    "    download = True\n",
    ")"
   ]
  },
  {
   "cell_type": "code",
   "execution_count": 5,
   "id": "dc542f0a-2aee-449b-9fc8-7af3262ebff0",
   "metadata": {},
   "outputs": [
    {
     "data": {
      "text/plain": [
       "Dataset MNIST\n",
       "    Number of datapoints: 60000\n",
       "    Root location: data\n",
       "    Split: Train\n",
       "    StandardTransform\n",
       "Transform: ToTensor()"
      ]
     },
     "execution_count": 5,
     "metadata": {},
     "output_type": "execute_result"
    }
   ],
   "source": [
    "train_data"
   ]
  },
  {
   "cell_type": "code",
   "execution_count": 6,
   "id": "49b7160c-88c4-401e-81a3-3d91cf176574",
   "metadata": {},
   "outputs": [
    {
     "data": {
      "text/plain": [
       "Dataset MNIST\n",
       "    Number of datapoints: 10000\n",
       "    Root location: data\n",
       "    Split: Test\n",
       "    StandardTransform\n",
       "Transform: ToTensor()"
      ]
     },
     "execution_count": 6,
     "metadata": {},
     "output_type": "execute_result"
    }
   ],
   "source": [
    "test_data"
   ]
  },
  {
   "cell_type": "code",
   "execution_count": 7,
   "id": "205497ce-fe8a-46aa-b9cb-9c1fbbe5b49a",
   "metadata": {},
   "outputs": [
    {
     "data": {
      "text/plain": [
       "torch.Size([60000, 28, 28])"
      ]
     },
     "execution_count": 7,
     "metadata": {},
     "output_type": "execute_result"
    }
   ],
   "source": [
    "train_data.data.shape"
   ]
  },
  {
   "cell_type": "code",
   "execution_count": 8,
   "id": "b6e0f9a7-2062-4a6f-9c60-869c6b6a7473",
   "metadata": {},
   "outputs": [
    {
     "data": {
      "text/plain": [
       "torch.Size([10000, 28, 28])"
      ]
     },
     "execution_count": 8,
     "metadata": {},
     "output_type": "execute_result"
    }
   ],
   "source": [
    "test_data.data.shape"
   ]
  },
  {
   "cell_type": "code",
   "execution_count": 15,
   "id": "08da63ea-92a2-4188-acc6-2663242c547d",
   "metadata": {},
   "outputs": [],
   "source": [
    "from torch.utils.data import DataLoader\n",
    "\n",
    "loaders = {\n",
    "    'train': DataLoader(train_data,\n",
    "                        batch_size=100,\n",
    "                        shuffle=True,\n",
    "                        num_workers=1),\n",
    "    'test': DataLoader(test_data,\n",
    "                        batch_size=100,\n",
    "                        shuffle=True,\n",
    "                        num_workers=1)\n",
    "}"
   ]
  },
  {
   "cell_type": "code",
   "execution_count": 39,
   "id": "efbe30da-f607-4c42-a9f3-b4c30293d9ae",
   "metadata": {},
   "outputs": [],
   "source": [
    "import torch.nn as nn\n",
    "import torch.nn.functional as F\n",
    "import torch.optim as optim\n",
    "\n",
    "class CNN(nn.Module):\n",
    "    def __init__(self):\n",
    "        super(CNN, self).__init__()\n",
    "\n",
    "        self.conv1 = nn.Conv2d(1, 10, kernel_size=5)\n",
    "        self.conv2 = nn.Conv2d(10, 20, kernel_size=5)\n",
    "        self.conv2_drop = nn.Dropout2d()\n",
    "        self.fc1 = nn.Linear(320, 50)\n",
    "        self.fc2 = nn.Linear(50, 10) # need to have 10 outputs to do softmax later\n",
    "\n",
    "    def forward(self, x):\n",
    "        x = F.relu(F.max_pool2d(self.conv1(x), 2))\n",
    "        x = F.relu(F.max_pool2d(self.conv2_drop(self.conv2(x)), 2))\n",
    "        x = x.view(-1, 320)\n",
    "        x = F.relu(self.fc1(x))\n",
    "        x = F.dropout(x, training=self.training)\n",
    "        x = self.fc2(x)\n",
    "\n",
    "        return F.softmax(x, -1)"
   ]
  },
  {
   "cell_type": "code",
   "execution_count": 40,
   "id": "05cb8963-60e9-4f4d-93af-bc9eeeb7bb08",
   "metadata": {},
   "outputs": [],
   "source": [
    "import torch\n",
    "\n",
    "device = torch.device('cuda' if torch.cuda.is_available() else 'cpu')\n",
    "\n",
    "model = CNN().to(device)\n",
    "\n",
    "optimizer = optim.Adam(model.parameters(), lr=0.001)\n",
    "\n",
    "loss_fn = nn.CrossEntropyLoss()\n",
    "\n",
    "def train(epoch):\n",
    "    model.train()\n",
    "    for batch_idx, (data, target) in enumerate(loaders['train']):\n",
    "        data, target = data.to(device), target.to(device)\n",
    "        optimizer.zero_grad()\n",
    "        output = model(data)\n",
    "        loss = loss_fn(output, target)\n",
    "        loss.backward()\n",
    "        optimizer.step()\n",
    "        if batch_idx % 20 == 0:\n",
    "            print(f'Train Epoch: {epoch} [{batch_idx * len(data)}/{len(loaders[\"train\"].dataset)} ({100. * batch_idx / len(loaders[\"train\"]):.0f}%)]\\t{loss.item():.6f}')\n",
    "\n",
    "\n",
    "def test():\n",
    "    model.eval()\n",
    "\n",
    "    test_loss = 0\n",
    "    correct = 0\n",
    "    with torch.no_grad():\n",
    "        for data, target in loaders['test']:\n",
    "            data, target = data.to(device), target.to(device)\n",
    "            output = model(data)\n",
    "            test_loss += loss_fn(output, target).item()\n",
    "            pred = output.argmax(dim=1, keepdim=True)\n",
    "            correct += pred.eq(target.view_as(pred)).sum().item()\n",
    "\n",
    "    test_loss /= len(loaders['test'].dataset)\n",
    "    print(f'\\nTest set: Average loss: {test_loss:.4f}, Accuracy {correct}/{len(loaders[\"test\"].dataset)} ({100. * correct / len(loaders[\"test\"].dataset):.0f}%)\\n')\n"
   ]
  },
  {
   "cell_type": "code",
   "execution_count": 41,
   "id": "709b2a99-9319-416f-a423-fa7ece911f4b",
   "metadata": {},
   "outputs": [
    {
     "name": "stdout",
     "output_type": "stream",
     "text": [
      "Train Epoch: 1 [0/60000 (0%)]\t2.303484\n",
      "Train Epoch: 1 [2000/60000 (3%)]\t2.281816\n",
      "Train Epoch: 1 [4000/60000 (7%)]\t2.172643\n",
      "Train Epoch: 1 [6000/60000 (10%)]\t2.051730\n",
      "Train Epoch: 1 [8000/60000 (13%)]\t1.910567\n",
      "Train Epoch: 1 [10000/60000 (17%)]\t1.822058\n",
      "Train Epoch: 1 [12000/60000 (20%)]\t1.859655\n",
      "Train Epoch: 1 [14000/60000 (23%)]\t1.768222\n",
      "Train Epoch: 1 [16000/60000 (27%)]\t1.703323\n",
      "Train Epoch: 1 [18000/60000 (30%)]\t1.722520\n",
      "Train Epoch: 1 [20000/60000 (33%)]\t1.680586\n",
      "Train Epoch: 1 [22000/60000 (37%)]\t1.675642\n",
      "Train Epoch: 1 [24000/60000 (40%)]\t1.746198\n",
      "Train Epoch: 1 [26000/60000 (43%)]\t1.651657\n",
      "Train Epoch: 1 [28000/60000 (47%)]\t1.634948\n",
      "Train Epoch: 1 [30000/60000 (50%)]\t1.668400\n",
      "Train Epoch: 1 [32000/60000 (53%)]\t1.667232\n",
      "Train Epoch: 1 [34000/60000 (57%)]\t1.634768\n",
      "Train Epoch: 1 [36000/60000 (60%)]\t1.637445\n",
      "Train Epoch: 1 [38000/60000 (63%)]\t1.684946\n",
      "Train Epoch: 1 [40000/60000 (67%)]\t1.615050\n",
      "Train Epoch: 1 [42000/60000 (70%)]\t1.591734\n",
      "Train Epoch: 1 [44000/60000 (73%)]\t1.606111\n",
      "Train Epoch: 1 [46000/60000 (77%)]\t1.602256\n",
      "Train Epoch: 1 [48000/60000 (80%)]\t1.600339\n",
      "Train Epoch: 1 [50000/60000 (83%)]\t1.658235\n",
      "Train Epoch: 1 [52000/60000 (87%)]\t1.616524\n",
      "Train Epoch: 1 [54000/60000 (90%)]\t1.572422\n",
      "Train Epoch: 1 [56000/60000 (93%)]\t1.591698\n",
      "Train Epoch: 1 [58000/60000 (97%)]\t1.585790\n",
      "\n",
      "Test set: Average loss: 0.0153, Accuracy 9348/10000 (93%)\n",
      "\n",
      "Train Epoch: 2 [0/60000 (0%)]\t1.579359\n",
      "Train Epoch: 2 [2000/60000 (3%)]\t1.586858\n",
      "Train Epoch: 2 [4000/60000 (7%)]\t1.608819\n",
      "Train Epoch: 2 [6000/60000 (10%)]\t1.665574\n",
      "Train Epoch: 2 [8000/60000 (13%)]\t1.653499\n",
      "Train Epoch: 2 [10000/60000 (17%)]\t1.557647\n",
      "Train Epoch: 2 [12000/60000 (20%)]\t1.542908\n",
      "Train Epoch: 2 [14000/60000 (23%)]\t1.601165\n",
      "Train Epoch: 2 [16000/60000 (27%)]\t1.601310\n",
      "Train Epoch: 2 [18000/60000 (30%)]\t1.572968\n",
      "Train Epoch: 2 [20000/60000 (33%)]\t1.591892\n",
      "Train Epoch: 2 [22000/60000 (37%)]\t1.543834\n",
      "Train Epoch: 2 [24000/60000 (40%)]\t1.569779\n",
      "Train Epoch: 2 [26000/60000 (43%)]\t1.564809\n",
      "Train Epoch: 2 [28000/60000 (47%)]\t1.592394\n",
      "Train Epoch: 2 [30000/60000 (50%)]\t1.582702\n",
      "Train Epoch: 2 [32000/60000 (53%)]\t1.608387\n",
      "Train Epoch: 2 [34000/60000 (57%)]\t1.580689\n",
      "Train Epoch: 2 [36000/60000 (60%)]\t1.620518\n",
      "Train Epoch: 2 [38000/60000 (63%)]\t1.601566\n",
      "Train Epoch: 2 [40000/60000 (67%)]\t1.594834\n",
      "Train Epoch: 2 [42000/60000 (70%)]\t1.543941\n",
      "Train Epoch: 2 [44000/60000 (73%)]\t1.557186\n",
      "Train Epoch: 2 [46000/60000 (77%)]\t1.521689\n",
      "Train Epoch: 2 [48000/60000 (80%)]\t1.601237\n",
      "Train Epoch: 2 [50000/60000 (83%)]\t1.565276\n",
      "Train Epoch: 2 [52000/60000 (87%)]\t1.554630\n",
      "Train Epoch: 2 [54000/60000 (90%)]\t1.568118\n",
      "Train Epoch: 2 [56000/60000 (93%)]\t1.583086\n",
      "Train Epoch: 2 [58000/60000 (97%)]\t1.532813\n",
      "\n",
      "Test set: Average loss: 0.0151, Accuracy 9524/10000 (95%)\n",
      "\n",
      "Train Epoch: 3 [0/60000 (0%)]\t1.588787\n",
      "Train Epoch: 3 [2000/60000 (3%)]\t1.587014\n",
      "Train Epoch: 3 [4000/60000 (7%)]\t1.623859\n",
      "Train Epoch: 3 [6000/60000 (10%)]\t1.597271\n",
      "Train Epoch: 3 [8000/60000 (13%)]\t1.564514\n",
      "Train Epoch: 3 [10000/60000 (17%)]\t1.594629\n",
      "Train Epoch: 3 [12000/60000 (20%)]\t1.577101\n",
      "Train Epoch: 3 [14000/60000 (23%)]\t1.515247\n",
      "Train Epoch: 3 [16000/60000 (27%)]\t1.519619\n",
      "Train Epoch: 3 [18000/60000 (30%)]\t1.526183\n",
      "Train Epoch: 3 [20000/60000 (33%)]\t1.540706\n",
      "Train Epoch: 3 [22000/60000 (37%)]\t1.575603\n",
      "Train Epoch: 3 [24000/60000 (40%)]\t1.599814\n",
      "Train Epoch: 3 [26000/60000 (43%)]\t1.569492\n",
      "Train Epoch: 3 [28000/60000 (47%)]\t1.595047\n",
      "Train Epoch: 3 [30000/60000 (50%)]\t1.537401\n",
      "Train Epoch: 3 [32000/60000 (53%)]\t1.520201\n",
      "Train Epoch: 3 [34000/60000 (57%)]\t1.567242\n",
      "Train Epoch: 3 [36000/60000 (60%)]\t1.560326\n",
      "Train Epoch: 3 [38000/60000 (63%)]\t1.597146\n",
      "Train Epoch: 3 [40000/60000 (67%)]\t1.556405\n",
      "Train Epoch: 3 [42000/60000 (70%)]\t1.576895\n",
      "Train Epoch: 3 [44000/60000 (73%)]\t1.545278\n",
      "Train Epoch: 3 [46000/60000 (77%)]\t1.564037\n",
      "Train Epoch: 3 [48000/60000 (80%)]\t1.522925\n",
      "Train Epoch: 3 [50000/60000 (83%)]\t1.579175\n",
      "Train Epoch: 3 [52000/60000 (87%)]\t1.554419\n",
      "Train Epoch: 3 [54000/60000 (90%)]\t1.553956\n",
      "Train Epoch: 3 [56000/60000 (93%)]\t1.562491\n",
      "Train Epoch: 3 [58000/60000 (97%)]\t1.531638\n",
      "\n",
      "Test set: Average loss: 0.0150, Accuracy 9625/10000 (96%)\n",
      "\n",
      "Train Epoch: 4 [0/60000 (0%)]\t1.545482\n",
      "Train Epoch: 4 [2000/60000 (3%)]\t1.589685\n",
      "Train Epoch: 4 [4000/60000 (7%)]\t1.557340\n",
      "Train Epoch: 4 [6000/60000 (10%)]\t1.589953\n",
      "Train Epoch: 4 [8000/60000 (13%)]\t1.554042\n",
      "Train Epoch: 4 [10000/60000 (17%)]\t1.535614\n",
      "Train Epoch: 4 [12000/60000 (20%)]\t1.554691\n",
      "Train Epoch: 4 [14000/60000 (23%)]\t1.578404\n",
      "Train Epoch: 4 [16000/60000 (27%)]\t1.535287\n",
      "Train Epoch: 4 [18000/60000 (30%)]\t1.583142\n",
      "Train Epoch: 4 [20000/60000 (33%)]\t1.533320\n",
      "Train Epoch: 4 [22000/60000 (37%)]\t1.563392\n",
      "Train Epoch: 4 [24000/60000 (40%)]\t1.532970\n",
      "Train Epoch: 4 [26000/60000 (43%)]\t1.555122\n",
      "Train Epoch: 4 [28000/60000 (47%)]\t1.576396\n",
      "Train Epoch: 4 [30000/60000 (50%)]\t1.505158\n",
      "Train Epoch: 4 [32000/60000 (53%)]\t1.551993\n",
      "Train Epoch: 4 [34000/60000 (57%)]\t1.529290\n",
      "Train Epoch: 4 [36000/60000 (60%)]\t1.505919\n",
      "Train Epoch: 4 [38000/60000 (63%)]\t1.557815\n",
      "Train Epoch: 4 [40000/60000 (67%)]\t1.548052\n",
      "Train Epoch: 4 [42000/60000 (70%)]\t1.554949\n",
      "Train Epoch: 4 [44000/60000 (73%)]\t1.556107\n",
      "Train Epoch: 4 [46000/60000 (77%)]\t1.586620\n",
      "Train Epoch: 4 [48000/60000 (80%)]\t1.525666\n",
      "Train Epoch: 4 [50000/60000 (83%)]\t1.544092\n",
      "Train Epoch: 4 [52000/60000 (87%)]\t1.556369\n",
      "Train Epoch: 4 [54000/60000 (90%)]\t1.555027\n",
      "Train Epoch: 4 [56000/60000 (93%)]\t1.586386\n",
      "Train Epoch: 4 [58000/60000 (97%)]\t1.563103\n",
      "\n",
      "Test set: Average loss: 0.0150, Accuracy 9627/10000 (96%)\n",
      "\n",
      "Train Epoch: 5 [0/60000 (0%)]\t1.536364\n",
      "Train Epoch: 5 [2000/60000 (3%)]\t1.563659\n",
      "Train Epoch: 5 [4000/60000 (7%)]\t1.546865\n",
      "Train Epoch: 5 [6000/60000 (10%)]\t1.517708\n",
      "Train Epoch: 5 [8000/60000 (13%)]\t1.555941\n",
      "Train Epoch: 5 [10000/60000 (17%)]\t1.578252\n",
      "Train Epoch: 5 [12000/60000 (20%)]\t1.527097\n",
      "Train Epoch: 5 [14000/60000 (23%)]\t1.516670\n",
      "Train Epoch: 5 [16000/60000 (27%)]\t1.518839\n",
      "Train Epoch: 5 [18000/60000 (30%)]\t1.556699\n",
      "Train Epoch: 5 [20000/60000 (33%)]\t1.539534\n",
      "Train Epoch: 5 [22000/60000 (37%)]\t1.533130\n",
      "Train Epoch: 5 [24000/60000 (40%)]\t1.510507\n",
      "Train Epoch: 5 [26000/60000 (43%)]\t1.548286\n",
      "Train Epoch: 5 [28000/60000 (47%)]\t1.493131\n",
      "Train Epoch: 5 [30000/60000 (50%)]\t1.561788\n",
      "Train Epoch: 5 [32000/60000 (53%)]\t1.542818\n",
      "Train Epoch: 5 [34000/60000 (57%)]\t1.495432\n",
      "Train Epoch: 5 [36000/60000 (60%)]\t1.495614\n",
      "Train Epoch: 5 [38000/60000 (63%)]\t1.548276\n",
      "Train Epoch: 5 [40000/60000 (67%)]\t1.573354\n",
      "Train Epoch: 5 [42000/60000 (70%)]\t1.520510\n",
      "Train Epoch: 5 [44000/60000 (73%)]\t1.528766\n",
      "Train Epoch: 5 [46000/60000 (77%)]\t1.527813\n",
      "Train Epoch: 5 [48000/60000 (80%)]\t1.560848\n",
      "Train Epoch: 5 [50000/60000 (83%)]\t1.500538\n",
      "Train Epoch: 5 [52000/60000 (87%)]\t1.580253\n",
      "Train Epoch: 5 [54000/60000 (90%)]\t1.548528\n",
      "Train Epoch: 5 [56000/60000 (93%)]\t1.485196\n",
      "Train Epoch: 5 [58000/60000 (97%)]\t1.550787\n",
      "\n",
      "Test set: Average loss: 0.0149, Accuracy 9682/10000 (97%)\n",
      "\n",
      "Train Epoch: 6 [0/60000 (0%)]\t1.506811\n",
      "Train Epoch: 6 [2000/60000 (3%)]\t1.541264\n",
      "Train Epoch: 6 [4000/60000 (7%)]\t1.557926\n",
      "Train Epoch: 6 [6000/60000 (10%)]\t1.528884\n",
      "Train Epoch: 6 [8000/60000 (13%)]\t1.532499\n",
      "Train Epoch: 6 [10000/60000 (17%)]\t1.507347\n",
      "Train Epoch: 6 [12000/60000 (20%)]\t1.551017\n",
      "Train Epoch: 6 [14000/60000 (23%)]\t1.513331\n",
      "Train Epoch: 6 [16000/60000 (27%)]\t1.489061\n",
      "Train Epoch: 6 [18000/60000 (30%)]\t1.523410\n",
      "Train Epoch: 6 [20000/60000 (33%)]\t1.504465\n",
      "Train Epoch: 6 [22000/60000 (37%)]\t1.525895\n",
      "Train Epoch: 6 [24000/60000 (40%)]\t1.495200\n",
      "Train Epoch: 6 [26000/60000 (43%)]\t1.516139\n",
      "Train Epoch: 6 [28000/60000 (47%)]\t1.541268\n",
      "Train Epoch: 6 [30000/60000 (50%)]\t1.546101\n",
      "Train Epoch: 6 [32000/60000 (53%)]\t1.527812\n",
      "Train Epoch: 6 [34000/60000 (57%)]\t1.523498\n",
      "Train Epoch: 6 [36000/60000 (60%)]\t1.526225\n",
      "Train Epoch: 6 [38000/60000 (63%)]\t1.534886\n",
      "Train Epoch: 6 [40000/60000 (67%)]\t1.534952\n",
      "Train Epoch: 6 [42000/60000 (70%)]\t1.540097\n",
      "Train Epoch: 6 [44000/60000 (73%)]\t1.553061\n",
      "Train Epoch: 6 [46000/60000 (77%)]\t1.539662\n",
      "Train Epoch: 6 [48000/60000 (80%)]\t1.543817\n",
      "Train Epoch: 6 [50000/60000 (83%)]\t1.535177\n",
      "Train Epoch: 6 [52000/60000 (87%)]\t1.562896\n",
      "Train Epoch: 6 [54000/60000 (90%)]\t1.572809\n",
      "Train Epoch: 6 [56000/60000 (93%)]\t1.552950\n",
      "Train Epoch: 6 [58000/60000 (97%)]\t1.549106\n",
      "\n",
      "Test set: Average loss: 0.0149, Accuracy 9694/10000 (97%)\n",
      "\n",
      "Train Epoch: 7 [0/60000 (0%)]\t1.543343\n",
      "Train Epoch: 7 [2000/60000 (3%)]\t1.523305\n",
      "Train Epoch: 7 [4000/60000 (7%)]\t1.530252\n",
      "Train Epoch: 7 [6000/60000 (10%)]\t1.518342\n",
      "Train Epoch: 7 [8000/60000 (13%)]\t1.537913\n",
      "Train Epoch: 7 [10000/60000 (17%)]\t1.522307\n",
      "Train Epoch: 7 [12000/60000 (20%)]\t1.587035\n",
      "Train Epoch: 7 [14000/60000 (23%)]\t1.505705\n",
      "Train Epoch: 7 [16000/60000 (27%)]\t1.538477\n",
      "Train Epoch: 7 [18000/60000 (30%)]\t1.521978\n",
      "Train Epoch: 7 [20000/60000 (33%)]\t1.527093\n",
      "Train Epoch: 7 [22000/60000 (37%)]\t1.523778\n",
      "Train Epoch: 7 [24000/60000 (40%)]\t1.495702\n",
      "Train Epoch: 7 [26000/60000 (43%)]\t1.553774\n",
      "Train Epoch: 7 [28000/60000 (47%)]\t1.522321\n",
      "Train Epoch: 7 [30000/60000 (50%)]\t1.516608\n",
      "Train Epoch: 7 [32000/60000 (53%)]\t1.489858\n",
      "Train Epoch: 7 [34000/60000 (57%)]\t1.495175\n",
      "Train Epoch: 7 [36000/60000 (60%)]\t1.525349\n",
      "Train Epoch: 7 [38000/60000 (63%)]\t1.583528\n",
      "Train Epoch: 7 [40000/60000 (67%)]\t1.563221\n",
      "Train Epoch: 7 [42000/60000 (70%)]\t1.576580\n",
      "Train Epoch: 7 [44000/60000 (73%)]\t1.529756\n",
      "Train Epoch: 7 [46000/60000 (77%)]\t1.530890\n",
      "Train Epoch: 7 [48000/60000 (80%)]\t1.488322\n",
      "Train Epoch: 7 [50000/60000 (83%)]\t1.579558\n",
      "Train Epoch: 7 [52000/60000 (87%)]\t1.534523\n",
      "Train Epoch: 7 [54000/60000 (90%)]\t1.521910\n",
      "Train Epoch: 7 [56000/60000 (93%)]\t1.579744\n",
      "Train Epoch: 7 [58000/60000 (97%)]\t1.566827\n",
      "\n",
      "Test set: Average loss: 0.0149, Accuracy 9724/10000 (97%)\n",
      "\n",
      "Train Epoch: 8 [0/60000 (0%)]\t1.525889\n",
      "Train Epoch: 8 [2000/60000 (3%)]\t1.557472\n",
      "Train Epoch: 8 [4000/60000 (7%)]\t1.555749\n",
      "Train Epoch: 8 [6000/60000 (10%)]\t1.517150\n",
      "Train Epoch: 8 [8000/60000 (13%)]\t1.505025\n",
      "Train Epoch: 8 [10000/60000 (17%)]\t1.547276\n",
      "Train Epoch: 8 [12000/60000 (20%)]\t1.547377\n",
      "Train Epoch: 8 [14000/60000 (23%)]\t1.497662\n",
      "Train Epoch: 8 [16000/60000 (27%)]\t1.528242\n",
      "Train Epoch: 8 [18000/60000 (30%)]\t1.573436\n",
      "Train Epoch: 8 [20000/60000 (33%)]\t1.559654\n",
      "Train Epoch: 8 [22000/60000 (37%)]\t1.533358\n",
      "Train Epoch: 8 [24000/60000 (40%)]\t1.554734\n",
      "Train Epoch: 8 [26000/60000 (43%)]\t1.536242\n",
      "Train Epoch: 8 [28000/60000 (47%)]\t1.524467\n",
      "Train Epoch: 8 [30000/60000 (50%)]\t1.505892\n",
      "Train Epoch: 8 [32000/60000 (53%)]\t1.546219\n",
      "Train Epoch: 8 [34000/60000 (57%)]\t1.521297\n",
      "Train Epoch: 8 [36000/60000 (60%)]\t1.544171\n",
      "Train Epoch: 8 [38000/60000 (63%)]\t1.563080\n",
      "Train Epoch: 8 [40000/60000 (67%)]\t1.489582\n",
      "Train Epoch: 8 [42000/60000 (70%)]\t1.542773\n",
      "Train Epoch: 8 [44000/60000 (73%)]\t1.509181\n",
      "Train Epoch: 8 [46000/60000 (77%)]\t1.580615\n",
      "Train Epoch: 8 [48000/60000 (80%)]\t1.496462\n",
      "Train Epoch: 8 [50000/60000 (83%)]\t1.525595\n",
      "Train Epoch: 8 [52000/60000 (87%)]\t1.543152\n",
      "Train Epoch: 8 [54000/60000 (90%)]\t1.521109\n",
      "Train Epoch: 8 [56000/60000 (93%)]\t1.520452\n",
      "Train Epoch: 8 [58000/60000 (97%)]\t1.588579\n",
      "\n",
      "Test set: Average loss: 0.0149, Accuracy 9715/10000 (97%)\n",
      "\n",
      "Train Epoch: 9 [0/60000 (0%)]\t1.516876\n",
      "Train Epoch: 9 [2000/60000 (3%)]\t1.528879\n",
      "Train Epoch: 9 [4000/60000 (7%)]\t1.519867\n",
      "Train Epoch: 9 [6000/60000 (10%)]\t1.511300\n",
      "Train Epoch: 9 [8000/60000 (13%)]\t1.539493\n",
      "Train Epoch: 9 [10000/60000 (17%)]\t1.505183\n",
      "Train Epoch: 9 [12000/60000 (20%)]\t1.525136\n",
      "Train Epoch: 9 [14000/60000 (23%)]\t1.519935\n",
      "Train Epoch: 9 [16000/60000 (27%)]\t1.508918\n",
      "Train Epoch: 9 [18000/60000 (30%)]\t1.532607\n",
      "Train Epoch: 9 [20000/60000 (33%)]\t1.554358\n",
      "Train Epoch: 9 [22000/60000 (37%)]\t1.536644\n",
      "Train Epoch: 9 [24000/60000 (40%)]\t1.514831\n",
      "Train Epoch: 9 [26000/60000 (43%)]\t1.563028\n",
      "Train Epoch: 9 [28000/60000 (47%)]\t1.527036\n",
      "Train Epoch: 9 [30000/60000 (50%)]\t1.547634\n",
      "Train Epoch: 9 [32000/60000 (53%)]\t1.564122\n",
      "Train Epoch: 9 [34000/60000 (57%)]\t1.522296\n",
      "Train Epoch: 9 [36000/60000 (60%)]\t1.550948\n",
      "Train Epoch: 9 [38000/60000 (63%)]\t1.539396\n",
      "Train Epoch: 9 [40000/60000 (67%)]\t1.522403\n",
      "Train Epoch: 9 [42000/60000 (70%)]\t1.504725\n",
      "Train Epoch: 9 [44000/60000 (73%)]\t1.566467\n",
      "Train Epoch: 9 [46000/60000 (77%)]\t1.513483\n",
      "Train Epoch: 9 [48000/60000 (80%)]\t1.543790\n",
      "Train Epoch: 9 [50000/60000 (83%)]\t1.517354\n",
      "Train Epoch: 9 [52000/60000 (87%)]\t1.546760\n",
      "Train Epoch: 9 [54000/60000 (90%)]\t1.506949\n",
      "Train Epoch: 9 [56000/60000 (93%)]\t1.564913\n",
      "Train Epoch: 9 [58000/60000 (97%)]\t1.516764\n",
      "\n",
      "Test set: Average loss: 0.0149, Accuracy 9750/10000 (98%)\n",
      "\n",
      "Train Epoch: 10 [0/60000 (0%)]\t1.547208\n",
      "Train Epoch: 10 [2000/60000 (3%)]\t1.522445\n",
      "Train Epoch: 10 [4000/60000 (7%)]\t1.510922\n",
      "Train Epoch: 10 [6000/60000 (10%)]\t1.539192\n",
      "Train Epoch: 10 [8000/60000 (13%)]\t1.495868\n",
      "Train Epoch: 10 [10000/60000 (17%)]\t1.523486\n",
      "Train Epoch: 10 [12000/60000 (20%)]\t1.509765\n",
      "Train Epoch: 10 [14000/60000 (23%)]\t1.502813\n",
      "Train Epoch: 10 [16000/60000 (27%)]\t1.545738\n",
      "Train Epoch: 10 [18000/60000 (30%)]\t1.505098\n",
      "Train Epoch: 10 [20000/60000 (33%)]\t1.498778\n",
      "Train Epoch: 10 [22000/60000 (37%)]\t1.515845\n",
      "Train Epoch: 10 [24000/60000 (40%)]\t1.531422\n",
      "Train Epoch: 10 [26000/60000 (43%)]\t1.531437\n",
      "Train Epoch: 10 [28000/60000 (47%)]\t1.501603\n",
      "Train Epoch: 10 [30000/60000 (50%)]\t1.584000\n",
      "Train Epoch: 10 [32000/60000 (53%)]\t1.542601\n",
      "Train Epoch: 10 [34000/60000 (57%)]\t1.503907\n",
      "Train Epoch: 10 [36000/60000 (60%)]\t1.510208\n",
      "Train Epoch: 10 [38000/60000 (63%)]\t1.534010\n",
      "Train Epoch: 10 [40000/60000 (67%)]\t1.549490\n",
      "Train Epoch: 10 [42000/60000 (70%)]\t1.517843\n",
      "Train Epoch: 10 [44000/60000 (73%)]\t1.525137\n",
      "Train Epoch: 10 [46000/60000 (77%)]\t1.542738\n",
      "Train Epoch: 10 [48000/60000 (80%)]\t1.527739\n",
      "Train Epoch: 10 [50000/60000 (83%)]\t1.487162\n",
      "Train Epoch: 10 [52000/60000 (87%)]\t1.503307\n",
      "Train Epoch: 10 [54000/60000 (90%)]\t1.550322\n",
      "Train Epoch: 10 [56000/60000 (93%)]\t1.534987\n",
      "Train Epoch: 10 [58000/60000 (97%)]\t1.499294\n",
      "\n",
      "Test set: Average loss: 0.0149, Accuracy 9746/10000 (97%)\n",
      "\n"
     ]
    }
   ],
   "source": [
    "for epoch in range(1, 11):\n",
    "    train(epoch)\n",
    "    test()"
   ]
  },
  {
   "cell_type": "code",
   "execution_count": 42,
   "id": "4a05ed36-f91c-45dc-a751-b11e1ee1a67d",
   "metadata": {},
   "outputs": [
    {
     "data": {
      "text/plain": [
       "device(type='cpu')"
      ]
     },
     "execution_count": 42,
     "metadata": {},
     "output_type": "execute_result"
    }
   ],
   "source": [
    "device"
   ]
  },
  {
   "cell_type": "code",
   "execution_count": null,
   "id": "6421f392-de7e-43c1-a6f4-28fa5d6a7092",
   "metadata": {},
   "outputs": [],
   "source": [
    "import matplotlib.pyplot as plt\n",
    "\n",
    "model.eval()\n",
    "\n",
    "data, target = test_data[0]\n",
    "\n",
    "data = data.unsqueeze()"
   ]
  }
 ],
 "metadata": {
  "kernelspec": {
   "display_name": "Python 3 (ipykernel)",
   "language": "python",
   "name": "python3"
  },
  "language_info": {
   "codemirror_mode": {
    "name": "ipython",
    "version": 3
   },
   "file_extension": ".py",
   "mimetype": "text/x-python",
   "name": "python",
   "nbconvert_exporter": "python",
   "pygments_lexer": "ipython3",
   "version": "3.9.18"
  }
 },
 "nbformat": 4,
 "nbformat_minor": 5
}
